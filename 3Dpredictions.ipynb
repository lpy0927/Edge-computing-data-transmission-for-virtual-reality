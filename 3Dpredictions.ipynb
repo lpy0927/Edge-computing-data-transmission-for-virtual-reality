{
  "nbformat": 4,
  "nbformat_minor": 0,
  "metadata": {
    "colab": {
      "provenance": [],
      "authorship_tag": "ABX9TyOAUWPeuAts4bneWAEms61b",
      "include_colab_link": true
    },
    "kernelspec": {
      "name": "python3",
      "display_name": "Python 3"
    },
    "language_info": {
      "name": "python"
    }
  },
  "cells": [
    {
      "cell_type": "markdown",
      "metadata": {
        "id": "view-in-github",
        "colab_type": "text"
      },
      "source": [
        "<a href=\"https://colab.research.google.com/github/lpy0927/Edge-computing-data-transmission-for-virtual-reality/blob/main/3Dpredictions.ipynb\" target=\"_parent\"><img src=\"https://colab.research.google.com/assets/colab-badge.svg\" alt=\"Open In Colab\"/></a>"
      ]
    },
    {
      "cell_type": "code",
      "execution_count": null,
      "metadata": {
        "colab": {
          "base_uri": "https://localhost:8080/",
          "height": 17
        },
        "id": "fExueIV-ZarS",
        "outputId": "54e4d0b3-67f3-4a66-cc14-e59bc4ab2933"
      },
      "outputs": [
        {
          "output_type": "display_data",
          "data": {
            "text/html": [
              "        <script type=\"text/javascript\">\n",
              "        window.PlotlyConfig = {MathJaxConfig: 'local'};\n",
              "        if (window.MathJax && window.MathJax.Hub && window.MathJax.Hub.Config) {window.MathJax.Hub.Config({SVG: {font: \"STIX-Web\"}});}\n",
              "        if (typeof require !== 'undefined') {\n",
              "        require.undef(\"plotly\");\n",
              "        requirejs.config({\n",
              "            paths: {\n",
              "                'plotly': ['https://cdn.plot.ly/plotly-2.24.1.min']\n",
              "            }\n",
              "        });\n",
              "        require(['plotly'], function(Plotly) {\n",
              "            window._Plotly = Plotly;\n",
              "        });\n",
              "        }\n",
              "        </script>\n",
              "        "
            ]
          },
          "metadata": {}
        }
      ],
      "source": [
        "from keras.layers import Conv3D, MaxPool3D, Flatten, Dense\n",
        "from keras.layers import Dropout, Input, BatchNormalization\n",
        "from sklearn.metrics import confusion_matrix, accuracy_score\n",
        "from plotly.offline import iplot, init_notebook_mode\n",
        "from keras.losses import categorical_crossentropy\n",
        "from keras.optimizers import Adadelta\n",
        "import plotly.graph_objs as go\n",
        "from matplotlib.pyplot import cm\n",
        "from keras.models import Model\n",
        "import numpy as np\n",
        "import keras\n",
        "import h5py\n",
        "from sklearn.ensemble import RandomForestClassifier\n",
        "from sklearn.linear_model import LogisticRegression\n",
        "init_notebook_mode(connected=True)\n",
        "%matplotlib inline\n"
      ]
    },
    {
      "cell_type": "code",
      "source": [
        "#read the dataset from the 3DMINIST\n",
        "with h5py.File('full_dataset_vectors.h5', 'r') as dataset:\n",
        "    x_train = dataset[\"X_train\"][:]\n",
        "    x_test = dataset[\"X_test\"][:]\n",
        "    y_train = dataset[\"y_train\"][:]\n",
        "    y_test = dataset[\"y_test\"][:]"
      ],
      "metadata": {
        "id": "sORj2sDFZn20"
      },
      "execution_count": null,
      "outputs": []
    },
    {
      "cell_type": "code",
      "source": [
        "#print the data shape\n",
        "print (\"x_train shape: \", x_train.shape)\n",
        "print (\"y_train shape: \", y_train.shape)\n",
        "print (\"x_test shape:  \", x_test.shape)\n",
        "print (\"y_test shape:  \", y_test.shape)"
      ],
      "metadata": {
        "colab": {
          "base_uri": "https://localhost:8080/"
        },
        "id": "xtEyPnX6bSNd",
        "outputId": "b60ae4f0-ff0f-45cc-b561-95b4942e7010"
      },
      "execution_count": null,
      "outputs": [
        {
          "output_type": "stream",
          "name": "stdout",
          "text": [
            "x_train shape:  (10000, 4096)\n",
            "y_train shape:  (10000,)\n",
            "x_test shape:   (2000, 4096)\n",
            "y_test shape:   (2000,)\n"
          ]
        }
      ]
    },
    {
      "cell_type": "code",
      "source": [
        "## Introduce the channel dimention in the input dataset\n",
        "xtrain = np.ndarray((x_train.shape[0], 4096, 3))\n",
        "xtest = np.ndarray((x_test.shape[0], 4096, 3))\n",
        "\n",
        "## iterate in train and test, add the rgb dimention\n",
        "def add_rgb_dimention(array):\n",
        "    scaler_map = cm.ScalarMappable(cmap=\"Oranges\")\n",
        "    array = scaler_map.to_rgba(array)[:, : -1]\n",
        "    return array\n",
        "for i in range(x_train.shape[0]):\n",
        "    xtrain[i] = add_rgb_dimention(x_train[i])\n",
        "for i in range(x_test.shape[0]):\n",
        "    xtest[i] = add_rgb_dimention(x_test[i])\n",
        "\n",
        "## convert to 1 + 4D space (1st argument represents number of rows in the dataset)\n",
        "xtrain = xtrain.reshape(x_train.shape[0], 16, 16, 16, 3)\n",
        "xtest = xtest.reshape(x_test.shape[0], 16, 16, 16, 3)\n",
        "\n",
        "## convert target variable into one-hot\n",
        "y_train = keras.utils.to_categorical(y_train, 10)\n",
        "y_test = keras.utils.to_categorical(y_test, 10)"
      ],
      "metadata": {
        "id": "4v8_AnXkbTwz"
      },
      "execution_count": null,
      "outputs": []
    },
    {
      "cell_type": "code",
      "source": [
        "# use logistic regression model to predict the data and get the accuracy result\n",
        "model_logisticRegression = LogisticRegression()\n",
        "y_train_labels = np.argmax(y_train, axis=1)\n",
        "y_test_labels = np.argmax(y_test,axis=1)\n",
        "model_logisticRegression.fit(xtrain.reshape(xtrain.shape[0],-1),y_train_labels)\n",
        "y_pred = model_logisticRegression.predict(xtest.reshape(xtest.shape[0],-1))\n",
        "accuracy = accuracy_score(y_test_labels,y_pred)\n",
        "print('accuracy:', accuracy)"
      ],
      "metadata": {
        "colab": {
          "base_uri": "https://localhost:8080/"
        },
        "id": "cFvAp6TmB3Ly",
        "outputId": "2911c669-5010-4cd9-ea47-4929093cc3b3"
      },
      "execution_count": null,
      "outputs": [
        {
          "output_type": "stream",
          "name": "stdout",
          "text": [
            "accuracy: 0.6135\n"
          ]
        },
        {
          "output_type": "stream",
          "name": "stderr",
          "text": [
            "/usr/local/lib/python3.10/dist-packages/sklearn/linear_model/_logistic.py:458: ConvergenceWarning:\n",
            "\n",
            "lbfgs failed to converge (status=1):\n",
            "STOP: TOTAL NO. of ITERATIONS REACHED LIMIT.\n",
            "\n",
            "Increase the number of iterations (max_iter) or scale the data as shown in:\n",
            "    https://scikit-learn.org/stable/modules/preprocessing.html\n",
            "Please also refer to the documentation for alternative solver options:\n",
            "    https://scikit-learn.org/stable/modules/linear_model.html#logistic-regression\n",
            "\n"
          ]
        }
      ]
    },
    {
      "cell_type": "code",
      "source": [
        "# use the random forest classifier to predict the data and get the accuracy result\n",
        "rf_classifier = RandomForestClassifier(n_estimators=100, random_state=42)\n",
        "rf_classifier.fit(x_train,y_train)\n",
        "y_pred = rf_classifier.predict(x_test)\n",
        "accuracy = accuracy_score(y_test,y_pred)\n",
        "print('accuracy: ',accuracy)"
      ],
      "metadata": {
        "colab": {
          "base_uri": "https://localhost:8080/"
        },
        "id": "FzY4RDW2b7dw",
        "outputId": "a7c34310-9a5e-4d01-a89f-3a4346687d49"
      },
      "execution_count": null,
      "outputs": [
        {
          "output_type": "stream",
          "name": "stdout",
          "text": [
            "accuracy:  0.3805\n"
          ]
        }
      ]
    },
    {
      "cell_type": "code",
      "source": [
        "# use the CNN model to predict the data and get the accuracy result\n",
        "import tensorflow as tf\n",
        "from tensorflow.keras import layers,models\n",
        "from tensorflow.keras.datasets import mnist\n",
        "# Define CNN model\n",
        "model = models.Sequential()\n",
        "model.add(layers.Conv3D(32, (3, 3, 3), activation='relu', input_shape=(16,16,16,3)))\n",
        "model.add(layers.MaxPooling3D((2, 2, 2)))\n",
        "model.add(layers.Conv3D(64, (3, 3, 3), activation='relu'))\n",
        "model.add(layers.MaxPooling3D((2, 2, 2)))\n",
        "model.add(layers.Conv3D(64, (2,2,2), activation='relu'))\n",
        "model.add(layers.Flatten())\n",
        "model.add(layers.Dense(64, activation='relu'))\n",
        "model.add(layers.Dense(10, activation='softmax'))\n",
        "\n",
        "# Compile the model\n",
        "model.compile(optimizer='adam',\n",
        "              loss='categorical_crossentropy',\n",
        "              metrics=['accuracy'])\n",
        "\n",
        "# Train the model\n",
        "model.fit(xtrain, y_train, epochs=20, batch_size=64, validation_data=(xtest, y_test))\n",
        "\n",
        "# Evaluate the model\n",
        "test_loss, test_acc = model.evaluate(xtest, y_test)\n",
        "print('Test accuracy:', test_acc)"
      ],
      "metadata": {
        "colab": {
          "base_uri": "https://localhost:8080/"
        },
        "id": "ZVhkiys7f7dO",
        "outputId": "1368692a-bcec-4ba3-d302-d9b4251596ca"
      },
      "execution_count": null,
      "outputs": [
        {
          "output_type": "stream",
          "name": "stdout",
          "text": [
            "Epoch 1/20\n",
            "157/157 [==============================] - 117s 738ms/step - loss: 2.2146 - accuracy: 0.1744 - val_loss: 1.8913 - val_accuracy: 0.3250\n",
            "Epoch 2/20\n",
            "157/157 [==============================] - 111s 705ms/step - loss: 1.8008 - accuracy: 0.3743 - val_loss: 1.6701 - val_accuracy: 0.4125\n",
            "Epoch 3/20\n",
            "157/157 [==============================] - 114s 729ms/step - loss: 1.5661 - accuracy: 0.4665 - val_loss: 1.4132 - val_accuracy: 0.4970\n",
            "Epoch 4/20\n",
            "157/157 [==============================] - 111s 709ms/step - loss: 1.4051 - accuracy: 0.5148 - val_loss: 1.3093 - val_accuracy: 0.5210\n",
            "Epoch 5/20\n",
            "157/157 [==============================] - 115s 732ms/step - loss: 1.3110 - accuracy: 0.5389 - val_loss: 1.2886 - val_accuracy: 0.5520\n",
            "Epoch 6/20\n",
            "157/157 [==============================] - 111s 705ms/step - loss: 1.2589 - accuracy: 0.5575 - val_loss: 1.2009 - val_accuracy: 0.5615\n",
            "Epoch 7/20\n",
            "157/157 [==============================] - 113s 721ms/step - loss: 1.2000 - accuracy: 0.5839 - val_loss: 1.1959 - val_accuracy: 0.5710\n",
            "Epoch 8/20\n",
            "157/157 [==============================] - 114s 727ms/step - loss: 1.1626 - accuracy: 0.5941 - val_loss: 1.1625 - val_accuracy: 0.5765\n",
            "Epoch 9/20\n",
            "157/157 [==============================] - 112s 713ms/step - loss: 1.1346 - accuracy: 0.6000 - val_loss: 1.1496 - val_accuracy: 0.5970\n",
            "Epoch 10/20\n",
            "157/157 [==============================] - 113s 720ms/step - loss: 1.1082 - accuracy: 0.6117 - val_loss: 1.1686 - val_accuracy: 0.5870\n",
            "Epoch 11/20\n",
            "157/157 [==============================] - 112s 717ms/step - loss: 1.0835 - accuracy: 0.6165 - val_loss: 1.1655 - val_accuracy: 0.5975\n",
            "Epoch 12/20\n",
            "157/157 [==============================] - 112s 714ms/step - loss: 1.0586 - accuracy: 0.6274 - val_loss: 1.0958 - val_accuracy: 0.5935\n",
            "Epoch 13/20\n",
            "157/157 [==============================] - 111s 710ms/step - loss: 1.0398 - accuracy: 0.6327 - val_loss: 1.0894 - val_accuracy: 0.6075\n",
            "Epoch 14/20\n",
            "157/157 [==============================] - 115s 736ms/step - loss: 1.0055 - accuracy: 0.6476 - val_loss: 1.0999 - val_accuracy: 0.6060\n",
            "Epoch 15/20\n",
            "157/157 [==============================] - 116s 738ms/step - loss: 0.9839 - accuracy: 0.6527 - val_loss: 1.0296 - val_accuracy: 0.6290\n",
            "Epoch 16/20\n",
            "157/157 [==============================] - 111s 710ms/step - loss: 0.9752 - accuracy: 0.6554 - val_loss: 1.0289 - val_accuracy: 0.6295\n",
            "Epoch 17/20\n",
            "157/157 [==============================] - 111s 708ms/step - loss: 0.9530 - accuracy: 0.6657 - val_loss: 1.0561 - val_accuracy: 0.6185\n",
            "Epoch 18/20\n",
            "157/157 [==============================] - 110s 703ms/step - loss: 0.9455 - accuracy: 0.6667 - val_loss: 1.0412 - val_accuracy: 0.6360\n",
            "Epoch 19/20\n",
            "157/157 [==============================] - 111s 708ms/step - loss: 0.9197 - accuracy: 0.6776 - val_loss: 0.9965 - val_accuracy: 0.6380\n",
            "Epoch 20/20\n",
            "157/157 [==============================] - 111s 711ms/step - loss: 0.9071 - accuracy: 0.6819 - val_loss: 0.9964 - val_accuracy: 0.6390\n",
            "63/63 [==============================] - 5s 84ms/step - loss: 0.9964 - accuracy: 0.6390\n",
            "Test accuracy: 0.6389999985694885\n"
          ]
        }
      ]
    },
    {
      "cell_type": "code",
      "source": [
        "# add the noise to the data\n",
        "def laplace_mechanism(original_data, sensitivity, epsilon):\n",
        "    noise_shape = original_data.shape  # Get the shape of the original data\n",
        "    scale = sensitivity / epsilon\n",
        "    noise = np.random.laplace(scale=scale, size=noise_shape)\n",
        "    private_data = original_data + noise\n",
        "    return private_data\n",
        "\n",
        "def compressed_LDP_mechanism(original_data, sensitivity,epsilon):\n",
        "    noisy_data = laplace_mechanism(original_data,sensitivity,epsilon)\n",
        "\n",
        "    serialized_data = pickle.dumps(noisy_data)\n",
        "    compressed_data = gzip.compress(serialized_data)\n",
        "\n",
        "    return compressed_data\n",
        "\n",
        "def Gaussian_mechanism(original_data, sensitivity,epsilon):\n",
        "    scale = sensitivity/epsilon\n",
        "    noisy_data = np.random.normal(scale=scale,size=original_data.shape)\n",
        "    return noisy_data\n",
        "\n"
      ],
      "metadata": {
        "id": "yp3NUrijcMEP"
      },
      "execution_count": null,
      "outputs": []
    },
    {
      "cell_type": "code",
      "source": [
        "# get the different epsilon accuracy results\n",
        "RandomForest = RandomForestClassifier()\n",
        "epsilons = [0.1,0.2,0.5,1,1.2,1.5,2,2.2,2.5,3]\n",
        "results = []\n",
        "for epsilon in epsilons:\n",
        "  sensitivity = 1\n",
        "  xtrain = xtrain.reshape(xtrain.shape[0],-1)\n",
        "  xtest = xtest.reshape(xtest.shape[0],-1)\n",
        "  y_train_labels = np.argmax(y_train, axis=1)\n",
        "  y_test_labels = np.argmax(y_test, axis=1)\n",
        "  x_train_noise = laplace_mechanism(xtrain,sensitivity,epsilon)\n",
        "  model_logisticRegression.fit(x_train_noise, y_train_labels)\n",
        "  result = model_logisticRegression.predict(xtest)\n",
        "  accuracy = accuracy_score(y_test_labels, result)\n",
        "  print(accuracy)\n",
        "  results.append(accuracy)"
      ],
      "metadata": {
        "colab": {
          "base_uri": "https://localhost:8080/"
        },
        "id": "GdmxrKqveF0C",
        "outputId": "68ba2413-48bc-4d8f-a25b-ff41fcca3b5e"
      },
      "execution_count": null,
      "outputs": [
        {
          "output_type": "stream",
          "name": "stdout",
          "text": [
            "0.2345\n"
          ]
        },
        {
          "output_type": "stream",
          "name": "stderr",
          "text": [
            "/usr/local/lib/python3.10/dist-packages/sklearn/linear_model/_logistic.py:458: ConvergenceWarning:\n",
            "\n",
            "lbfgs failed to converge (status=1):\n",
            "STOP: TOTAL NO. of ITERATIONS REACHED LIMIT.\n",
            "\n",
            "Increase the number of iterations (max_iter) or scale the data as shown in:\n",
            "    https://scikit-learn.org/stable/modules/preprocessing.html\n",
            "Please also refer to the documentation for alternative solver options:\n",
            "    https://scikit-learn.org/stable/modules/linear_model.html#logistic-regression\n",
            "\n"
          ]
        },
        {
          "output_type": "stream",
          "name": "stdout",
          "text": [
            "0.3215\n"
          ]
        },
        {
          "output_type": "stream",
          "name": "stderr",
          "text": [
            "/usr/local/lib/python3.10/dist-packages/sklearn/linear_model/_logistic.py:458: ConvergenceWarning:\n",
            "\n",
            "lbfgs failed to converge (status=1):\n",
            "STOP: TOTAL NO. of ITERATIONS REACHED LIMIT.\n",
            "\n",
            "Increase the number of iterations (max_iter) or scale the data as shown in:\n",
            "    https://scikit-learn.org/stable/modules/preprocessing.html\n",
            "Please also refer to the documentation for alternative solver options:\n",
            "    https://scikit-learn.org/stable/modules/linear_model.html#logistic-regression\n",
            "\n"
          ]
        },
        {
          "output_type": "stream",
          "name": "stdout",
          "text": [
            "0.444\n"
          ]
        },
        {
          "output_type": "stream",
          "name": "stderr",
          "text": [
            "/usr/local/lib/python3.10/dist-packages/sklearn/linear_model/_logistic.py:458: ConvergenceWarning:\n",
            "\n",
            "lbfgs failed to converge (status=1):\n",
            "STOP: TOTAL NO. of ITERATIONS REACHED LIMIT.\n",
            "\n",
            "Increase the number of iterations (max_iter) or scale the data as shown in:\n",
            "    https://scikit-learn.org/stable/modules/preprocessing.html\n",
            "Please also refer to the documentation for alternative solver options:\n",
            "    https://scikit-learn.org/stable/modules/linear_model.html#logistic-regression\n",
            "\n"
          ]
        },
        {
          "output_type": "stream",
          "name": "stdout",
          "text": [
            "0.5155\n"
          ]
        },
        {
          "output_type": "stream",
          "name": "stderr",
          "text": [
            "/usr/local/lib/python3.10/dist-packages/sklearn/linear_model/_logistic.py:458: ConvergenceWarning:\n",
            "\n",
            "lbfgs failed to converge (status=1):\n",
            "STOP: TOTAL NO. of ITERATIONS REACHED LIMIT.\n",
            "\n",
            "Increase the number of iterations (max_iter) or scale the data as shown in:\n",
            "    https://scikit-learn.org/stable/modules/preprocessing.html\n",
            "Please also refer to the documentation for alternative solver options:\n",
            "    https://scikit-learn.org/stable/modules/linear_model.html#logistic-regression\n",
            "\n"
          ]
        },
        {
          "output_type": "stream",
          "name": "stdout",
          "text": [
            "0.5425\n"
          ]
        },
        {
          "output_type": "stream",
          "name": "stderr",
          "text": [
            "/usr/local/lib/python3.10/dist-packages/sklearn/linear_model/_logistic.py:458: ConvergenceWarning:\n",
            "\n",
            "lbfgs failed to converge (status=1):\n",
            "STOP: TOTAL NO. of ITERATIONS REACHED LIMIT.\n",
            "\n",
            "Increase the number of iterations (max_iter) or scale the data as shown in:\n",
            "    https://scikit-learn.org/stable/modules/preprocessing.html\n",
            "Please also refer to the documentation for alternative solver options:\n",
            "    https://scikit-learn.org/stable/modules/linear_model.html#logistic-regression\n",
            "\n"
          ]
        },
        {
          "output_type": "stream",
          "name": "stdout",
          "text": [
            "0.5595\n"
          ]
        },
        {
          "output_type": "stream",
          "name": "stderr",
          "text": [
            "/usr/local/lib/python3.10/dist-packages/sklearn/linear_model/_logistic.py:458: ConvergenceWarning:\n",
            "\n",
            "lbfgs failed to converge (status=1):\n",
            "STOP: TOTAL NO. of ITERATIONS REACHED LIMIT.\n",
            "\n",
            "Increase the number of iterations (max_iter) or scale the data as shown in:\n",
            "    https://scikit-learn.org/stable/modules/preprocessing.html\n",
            "Please also refer to the documentation for alternative solver options:\n",
            "    https://scikit-learn.org/stable/modules/linear_model.html#logistic-regression\n",
            "\n"
          ]
        },
        {
          "output_type": "stream",
          "name": "stdout",
          "text": [
            "0.573\n"
          ]
        },
        {
          "output_type": "stream",
          "name": "stderr",
          "text": [
            "/usr/local/lib/python3.10/dist-packages/sklearn/linear_model/_logistic.py:458: ConvergenceWarning:\n",
            "\n",
            "lbfgs failed to converge (status=1):\n",
            "STOP: TOTAL NO. of ITERATIONS REACHED LIMIT.\n",
            "\n",
            "Increase the number of iterations (max_iter) or scale the data as shown in:\n",
            "    https://scikit-learn.org/stable/modules/preprocessing.html\n",
            "Please also refer to the documentation for alternative solver options:\n",
            "    https://scikit-learn.org/stable/modules/linear_model.html#logistic-regression\n",
            "\n"
          ]
        },
        {
          "output_type": "stream",
          "name": "stdout",
          "text": [
            "0.587\n"
          ]
        },
        {
          "output_type": "stream",
          "name": "stderr",
          "text": [
            "/usr/local/lib/python3.10/dist-packages/sklearn/linear_model/_logistic.py:458: ConvergenceWarning:\n",
            "\n",
            "lbfgs failed to converge (status=1):\n",
            "STOP: TOTAL NO. of ITERATIONS REACHED LIMIT.\n",
            "\n",
            "Increase the number of iterations (max_iter) or scale the data as shown in:\n",
            "    https://scikit-learn.org/stable/modules/preprocessing.html\n",
            "Please also refer to the documentation for alternative solver options:\n",
            "    https://scikit-learn.org/stable/modules/linear_model.html#logistic-regression\n",
            "\n"
          ]
        },
        {
          "output_type": "stream",
          "name": "stdout",
          "text": [
            "0.5885\n",
            "0.611\n"
          ]
        },
        {
          "output_type": "stream",
          "name": "stderr",
          "text": [
            "/usr/local/lib/python3.10/dist-packages/sklearn/linear_model/_logistic.py:458: ConvergenceWarning:\n",
            "\n",
            "lbfgs failed to converge (status=1):\n",
            "STOP: TOTAL NO. of ITERATIONS REACHED LIMIT.\n",
            "\n",
            "Increase the number of iterations (max_iter) or scale the data as shown in:\n",
            "    https://scikit-learn.org/stable/modules/preprocessing.html\n",
            "Please also refer to the documentation for alternative solver options:\n",
            "    https://scikit-learn.org/stable/modules/linear_model.html#logistic-regression\n",
            "\n"
          ]
        }
      ]
    },
    {
      "cell_type": "code",
      "source": [
        "import matplotlib.pyplot as plt"
      ],
      "metadata": {
        "id": "XzLmNVfGp2rM"
      },
      "execution_count": null,
      "outputs": []
    },
    {
      "cell_type": "code",
      "source": [
        "print(results)"
      ],
      "metadata": {
        "colab": {
          "base_uri": "https://localhost:8080/"
        },
        "id": "YT44ejnqzkk3",
        "outputId": "2df29a87-a069-471d-ad65-7548f8ffbddd"
      },
      "execution_count": null,
      "outputs": [
        {
          "output_type": "stream",
          "name": "stdout",
          "text": [
            "[0.2345, 0.3215, 0.444, 0.5155, 0.5425, 0.5595, 0.573, 0.587, 0.5885, 0.611]\n"
          ]
        }
      ]
    },
    {
      "cell_type": "code",
      "source": [
        "def plot_results(epsilons, test_acc):\n",
        "  plt.plot(epsilons,test_acc,color='black')\n",
        "  plt.xlabel('Different privacy parameters')\n",
        "  plt.ylabel('Accuracy (%)')\n",
        "  plt.legend()\n",
        "  plt.show()"
      ],
      "metadata": {
        "id": "Dk2Br3rIfm9O"
      },
      "execution_count": null,
      "outputs": []
    },
    {
      "cell_type": "code",
      "source": [
        "result_data=[]\n",
        "for result in results:\n",
        "  result_data.append(result*100)\n",
        "plot_results(epsilons,result_data)"
      ],
      "metadata": {
        "colab": {
          "base_uri": "https://localhost:8080/",
          "height": 486
        },
        "id": "WNhySHFBpm1c",
        "outputId": "d3cf3572-6ce3-4810-d684-0d570a3b3efd"
      },
      "execution_count": null,
      "outputs": [
        {
          "output_type": "stream",
          "name": "stderr",
          "text": [
            "WARNING:matplotlib.legend:No artists with labels found to put in legend.  Note that artists whose label start with an underscore are ignored when legend() is called with no argument.\n"
          ]
        },
        {
          "output_type": "display_data",
          "data": {
            "text/plain": [
              "<Figure size 640x480 with 1 Axes>"
            ],
            "image/png": "[encoded data removed]"
          },
          "metadata": {}
        }
      ]
    },
    {
      "cell_type": "code",
      "source": [
        "\n",
        "# get the membership inference attack resutls under different epsilons\n",
        "epsilons = [0.1,0.2,0.5,1.0,2.0,3.0]\n",
        "attack_results=[]\n",
        "sensitivity = 1.0\n",
        "def add_laplace_noise(data, epsilon):\n",
        "  noisy_data = data + np.random.laplace(scale=sensitivity/epsilon, size=data.shape)\n",
        "  return noisy_data\n",
        "def membership_inference_attack(epsilon,xtrain,y_train,xtest,y_test):\n",
        "  x_train_noise = add_laplace_noise(xtrain,epsilon)\n",
        "  clf = LogisticRegression()\n",
        "  clf.fit(x_train_noise,y_train)\n",
        "  ypred= clf.predict(xtest)\n",
        "  accuracy = accuracy_score(y_test, ypred)\n",
        "  return accuracy\n",
        "\n",
        "\n"
      ],
      "metadata": {
        "id": "XOFNutzrnIbu"
      },
      "execution_count": null,
      "outputs": []
    },
    {
      "cell_type": "code",
      "source": [
        "# get the attack results\n",
        "for epsilon in epsilons:\n",
        "  xtrain = xtrain.reshape(xtrain.shape[0],-1)\n",
        "  xtest = xtest.reshape(xtest.shape[0],-1)\n",
        "  y_train_labels = np.argmax(y_train, axis=1)\n",
        "  y_test_labels = np.argmax(y_test, axis=1)\n",
        "  accuracy=membership_inference_attack(epsilon,xtrain,y_train_labels,xtest,y_test_labels)\n",
        "  print(accuracy)\n",
        "  attack_results.append(accuracy)"
      ],
      "metadata": {
        "id": "7UfMJ2i9EauG"
      },
      "execution_count": null,
      "outputs": []
    },
    {
      "cell_type": "code",
      "source": [
        "# plot the data\n",
        "def plot_membership_inference_results(epsilons, attack_results):\n",
        "  privacys = []\n",
        "  for i in attack_results:\n",
        "    privacy = (1-i)*100\n",
        "    privacys.append(privacy)\n",
        "  plt.plot(epsilons,privacys)\n",
        "  plt.xlabel('Different privacy parameters')\n",
        "  plt.ylabel('Privacy results (%)')\n",
        "  plt.legend()\n",
        "  plt.show()"
      ],
      "metadata": {
        "id": "5YU4-J8AB_O_"
      },
      "execution_count": null,
      "outputs": []
    },
    {
      "cell_type": "code",
      "source": [
        "print(attack_results)\n",
        "plot_membership_inference_results(epsilons,attack_results)"
      ],
      "metadata": {
        "id": "UELp-baHA9FK"
      },
      "execution_count": null,
      "outputs": []
    },
    {
      "cell_type": "code",
      "source": [
        "# use the different privacy methods to evaluate the data\n",
        "def run_experiments(xtrain,y_train,xtest,y_test):\n",
        "  privacy_methods = ['CDP','LDP','Gaussian','SMPC','LDPET']\n",
        "  sensitivity = 1\n",
        "  epsilons = [0.1,0.2,0.5,1.0,1.5,2.0,2.5,3.0]\n",
        "  results = np.zeros((len(privacy_methods),len(epsilons)))\n",
        "  xtrain = xtrain.reshape(xtrain.shape[0],-1)\n",
        "  xtest = xtest.reshape(xtest.shape[0],-1)\n",
        "  y_train_labels = np.argmax(y_train, axis=1)\n",
        "  y_test_labels = np.argmax(y_test, axis=1)\n",
        "  for method in privacy_methods:\n",
        "    for epsilon in epsilons:\n",
        "      if method == 'CDP':\n",
        "        print('CDP:',epsilon)\n",
        "        X_train_noise = Gaussian_mechanism(xtrain,sensitivity,epsilon)\n",
        "      if method == 'LDP':\n",
        "        print('LDP:',epsilon)\n",
        "        X_train_noise = laplace_mechanism(xtrain,sensitivity,epsilon)\n",
        "      if method == 'Gaussian':\n",
        "        print('Gaussian:',epsilon)\n",
        "        X_train_noise = Gaussian_mechanism(xtrain,sensitivity,epsilon)\n",
        "      if method == 'SMPC':\n",
        "        print('SMPC:')\n",
        "        X_train_noise = xtrain + 1\n",
        "      if method == 'LDPET':\n",
        "        print('LDPET:',epsilon)\n",
        "        X_privacy_compressed = compressed_LDP_mechanism(xtrain, sensitivity,epsilon)\n",
        "        serialized_data = gzip.decompress(X_privacy_compressed)\n",
        "        X_privacy_preserved = pickle.loads(serialized_data)\n",
        "        X_train_noise = X_privacy_preserved + 0.1\n",
        "      model_logisticRegression.fit(X_train_noise, y_train_labels)\n",
        "      result = model_logisticRegression.predict(xtest)\n",
        "      accuracy = accuracy_score(y_test_labels,result)\n",
        "      print(accuracy)\n",
        "      results[privacy_methods.index(method)][epsilons.index(epsilon)] = accuracy\n",
        "  return privacy_methods, results"
      ],
      "metadata": {
        "id": "m4MsZUuPgGuZ"
      },
      "execution_count": null,
      "outputs": []
    },
    {
      "cell_type": "code",
      "source": [
        "# plot the results\n",
        "def plot_methods_results(privacy_methods, results):\n",
        "  colors=['blue','green','red','purple','black']\n",
        "  for i, method in enumerate(privacy_methods):\n",
        "    for j,epsilon in enumerate(epsilons):\n",
        "      plt.plot(epsilons[j],results[j][i]*100,width=0.1,color=colors[i],label=privacy_methods[i])\n",
        "  plt.xlabel('Different Epsilons')\n",
        "  plt.ylabel('Accuracy (%)')\n",
        "  plt.legend()\n",
        "  plt.show()"
      ],
      "metadata": {
        "id": "1ogOZwWAkQeT"
      },
      "execution_count": null,
      "outputs": []
    },
    {
      "cell_type": "code",
      "source": [
        "import pickle\n",
        "import gzip"
      ],
      "metadata": {
        "id": "66Bort9PEoHV"
      },
      "execution_count": null,
      "outputs": []
    },
    {
      "cell_type": "code",
      "source": [
        "privacy_methods,results = run_experiments(xtrain,y_train,xtest,y_test)"
      ],
      "metadata": {
        "colab": {
          "base_uri": "https://localhost:8080/"
        },
        "id": "4Yg4GTL1eX_G",
        "outputId": "46eff628-7c3d-42c9-da2b-7cf79cb200b5"
      },
      "execution_count": null,
      "outputs": [
        {
          "output_type": "stream",
          "name": "stdout",
          "text": [
            "CDP: 0.1\n",
            "0.126\n",
            "CDP: 0.2\n",
            "0.0855\n",
            "CDP: 0.5\n",
            "0.094\n",
            "CDP: 1.0\n",
            "0.1155\n",
            "CDP: 1.5\n",
            "0.105\n",
            "CDP: 2.0\n",
            "0.083\n",
            "CDP: 2.5\n",
            "0.0935\n",
            "CDP: 3.0\n",
            "0.087\n",
            "LDP: 0.1\n"
          ]
        },
        {
          "output_type": "stream",
          "name": "stderr",
          "text": [
            "/usr/local/lib/python3.10/dist-packages/sklearn/linear_model/_logistic.py:458: ConvergenceWarning:\n",
            "\n",
            "lbfgs failed to converge (status=1):\n",
            "STOP: TOTAL NO. of ITERATIONS REACHED LIMIT.\n",
            "\n",
            "Increase the number of iterations (max_iter) or scale the data as shown in:\n",
            "    https://scikit-learn.org/stable/modules/preprocessing.html\n",
            "Please also refer to the documentation for alternative solver options:\n",
            "    https://scikit-learn.org/stable/modules/linear_model.html#logistic-regression\n",
            "\n"
          ]
        },
        {
          "output_type": "stream",
          "name": "stdout",
          "text": [
            "0.196\n",
            "LDP: 0.2\n"
          ]
        },
        {
          "output_type": "stream",
          "name": "stderr",
          "text": [
            "/usr/local/lib/python3.10/dist-packages/sklearn/linear_model/_logistic.py:458: ConvergenceWarning:\n",
            "\n",
            "lbfgs failed to converge (status=1):\n",
            "STOP: TOTAL NO. of ITERATIONS REACHED LIMIT.\n",
            "\n",
            "Increase the number of iterations (max_iter) or scale the data as shown in:\n",
            "    https://scikit-learn.org/stable/modules/preprocessing.html\n",
            "Please also refer to the documentation for alternative solver options:\n",
            "    https://scikit-learn.org/stable/modules/linear_model.html#logistic-regression\n",
            "\n"
          ]
        },
        {
          "output_type": "stream",
          "name": "stdout",
          "text": [
            "0.292\n",
            "LDP: 0.5\n"
          ]
        },
        {
          "output_type": "stream",
          "name": "stderr",
          "text": [
            "/usr/local/lib/python3.10/dist-packages/sklearn/linear_model/_logistic.py:458: ConvergenceWarning:\n",
            "\n",
            "lbfgs failed to converge (status=1):\n",
            "STOP: TOTAL NO. of ITERATIONS REACHED LIMIT.\n",
            "\n",
            "Increase the number of iterations (max_iter) or scale the data as shown in:\n",
            "    https://scikit-learn.org/stable/modules/preprocessing.html\n",
            "Please also refer to the documentation for alternative solver options:\n",
            "    https://scikit-learn.org/stable/modules/linear_model.html#logistic-regression\n",
            "\n"
          ]
        },
        {
          "output_type": "stream",
          "name": "stdout",
          "text": [
            "0.443\n",
            "LDP: 1.0\n"
          ]
        },
        {
          "output_type": "stream",
          "name": "stderr",
          "text": [
            "/usr/local/lib/python3.10/dist-packages/sklearn/linear_model/_logistic.py:458: ConvergenceWarning:\n",
            "\n",
            "lbfgs failed to converge (status=1):\n",
            "STOP: TOTAL NO. of ITERATIONS REACHED LIMIT.\n",
            "\n",
            "Increase the number of iterations (max_iter) or scale the data as shown in:\n",
            "    https://scikit-learn.org/stable/modules/preprocessing.html\n",
            "Please also refer to the documentation for alternative solver options:\n",
            "    https://scikit-learn.org/stable/modules/linear_model.html#logistic-regression\n",
            "\n"
          ]
        },
        {
          "output_type": "stream",
          "name": "stdout",
          "text": [
            "0.5255\n",
            "LDP: 1.5\n"
          ]
        },
        {
          "output_type": "stream",
          "name": "stderr",
          "text": [
            "/usr/local/lib/python3.10/dist-packages/sklearn/linear_model/_logistic.py:458: ConvergenceWarning:\n",
            "\n",
            "lbfgs failed to converge (status=1):\n",
            "STOP: TOTAL NO. of ITERATIONS REACHED LIMIT.\n",
            "\n",
            "Increase the number of iterations (max_iter) or scale the data as shown in:\n",
            "    https://scikit-learn.org/stable/modules/preprocessing.html\n",
            "Please also refer to the documentation for alternative solver options:\n",
            "    https://scikit-learn.org/stable/modules/linear_model.html#logistic-regression\n",
            "\n"
          ]
        },
        {
          "output_type": "stream",
          "name": "stdout",
          "text": [
            "0.5585\n",
            "LDP: 2.0\n"
          ]
        },
        {
          "output_type": "stream",
          "name": "stderr",
          "text": [
            "/usr/local/lib/python3.10/dist-packages/sklearn/linear_model/_logistic.py:458: ConvergenceWarning:\n",
            "\n",
            "lbfgs failed to converge (status=1):\n",
            "STOP: TOTAL NO. of ITERATIONS REACHED LIMIT.\n",
            "\n",
            "Increase the number of iterations (max_iter) or scale the data as shown in:\n",
            "    https://scikit-learn.org/stable/modules/preprocessing.html\n",
            "Please also refer to the documentation for alternative solver options:\n",
            "    https://scikit-learn.org/stable/modules/linear_model.html#logistic-regression\n",
            "\n"
          ]
        },
        {
          "output_type": "stream",
          "name": "stdout",
          "text": [
            "0.5655\n",
            "LDP: 2.5\n"
          ]
        },
        {
          "output_type": "stream",
          "name": "stderr",
          "text": [
            "/usr/local/lib/python3.10/dist-packages/sklearn/linear_model/_logistic.py:458: ConvergenceWarning:\n",
            "\n",
            "lbfgs failed to converge (status=1):\n",
            "STOP: TOTAL NO. of ITERATIONS REACHED LIMIT.\n",
            "\n",
            "Increase the number of iterations (max_iter) or scale the data as shown in:\n",
            "    https://scikit-learn.org/stable/modules/preprocessing.html\n",
            "Please also refer to the documentation for alternative solver options:\n",
            "    https://scikit-learn.org/stable/modules/linear_model.html#logistic-regression\n",
            "\n"
          ]
        },
        {
          "output_type": "stream",
          "name": "stdout",
          "text": [
            "0.588\n",
            "LDP: 3.0\n"
          ]
        },
        {
          "output_type": "stream",
          "name": "stderr",
          "text": [
            "/usr/local/lib/python3.10/dist-packages/sklearn/linear_model/_logistic.py:458: ConvergenceWarning:\n",
            "\n",
            "lbfgs failed to converge (status=1):\n",
            "STOP: TOTAL NO. of ITERATIONS REACHED LIMIT.\n",
            "\n",
            "Increase the number of iterations (max_iter) or scale the data as shown in:\n",
            "    https://scikit-learn.org/stable/modules/preprocessing.html\n",
            "Please also refer to the documentation for alternative solver options:\n",
            "    https://scikit-learn.org/stable/modules/linear_model.html#logistic-regression\n",
            "\n"
          ]
        },
        {
          "output_type": "stream",
          "name": "stdout",
          "text": [
            "0.601\n",
            "Gaussian: 0.1\n",
            "0.126\n",
            "Gaussian: 0.2\n",
            "0.085\n",
            "Gaussian: 0.5\n",
            "0.092\n",
            "Gaussian: 1.0\n",
            "0.087\n",
            "Gaussian: 1.5\n",
            "0.126\n",
            "Gaussian: 2.0\n",
            "0.087\n",
            "Gaussian: 2.5\n",
            "0.107\n",
            "Gaussian: 3.0\n",
            "0.089\n",
            "SMPC:\n"
          ]
        },
        {
          "output_type": "stream",
          "name": "stderr",
          "text": [
            "/usr/local/lib/python3.10/dist-packages/sklearn/linear_model/_logistic.py:458: ConvergenceWarning:\n",
            "\n",
            "lbfgs failed to converge (status=1):\n",
            "STOP: TOTAL NO. of ITERATIONS REACHED LIMIT.\n",
            "\n",
            "Increase the number of iterations (max_iter) or scale the data as shown in:\n",
            "    https://scikit-learn.org/stable/modules/preprocessing.html\n",
            "Please also refer to the documentation for alternative solver options:\n",
            "    https://scikit-learn.org/stable/modules/linear_model.html#logistic-regression\n",
            "\n"
          ]
        },
        {
          "output_type": "stream",
          "name": "stdout",
          "text": [
            "0.3845\n",
            "SMPC:\n"
          ]
        },
        {
          "output_type": "stream",
          "name": "stderr",
          "text": [
            "/usr/local/lib/python3.10/dist-packages/sklearn/linear_model/_logistic.py:458: ConvergenceWarning:\n",
            "\n",
            "lbfgs failed to converge (status=1):\n",
            "STOP: TOTAL NO. of ITERATIONS REACHED LIMIT.\n",
            "\n",
            "Increase the number of iterations (max_iter) or scale the data as shown in:\n",
            "    https://scikit-learn.org/stable/modules/preprocessing.html\n",
            "Please also refer to the documentation for alternative solver options:\n",
            "    https://scikit-learn.org/stable/modules/linear_model.html#logistic-regression\n",
            "\n"
          ]
        },
        {
          "output_type": "stream",
          "name": "stdout",
          "text": [
            "0.3845\n",
            "SMPC:\n"
          ]
        },
        {
          "output_type": "stream",
          "name": "stderr",
          "text": [
            "/usr/local/lib/python3.10/dist-packages/sklearn/linear_model/_logistic.py:458: ConvergenceWarning:\n",
            "\n",
            "lbfgs failed to converge (status=1):\n",
            "STOP: TOTAL NO. of ITERATIONS REACHED LIMIT.\n",
            "\n",
            "Increase the number of iterations (max_iter) or scale the data as shown in:\n",
            "    https://scikit-learn.org/stable/modules/preprocessing.html\n",
            "Please also refer to the documentation for alternative solver options:\n",
            "    https://scikit-learn.org/stable/modules/linear_model.html#logistic-regression\n",
            "\n"
          ]
        },
        {
          "output_type": "stream",
          "name": "stdout",
          "text": [
            "0.3845\n",
            "SMPC:\n"
          ]
        },
        {
          "output_type": "stream",
          "name": "stderr",
          "text": [
            "/usr/local/lib/python3.10/dist-packages/sklearn/linear_model/_logistic.py:458: ConvergenceWarning:\n",
            "\n",
            "lbfgs failed to converge (status=1):\n",
            "STOP: TOTAL NO. of ITERATIONS REACHED LIMIT.\n",
            "\n",
            "Increase the number of iterations (max_iter) or scale the data as shown in:\n",
            "    https://scikit-learn.org/stable/modules/preprocessing.html\n",
            "Please also refer to the documentation for alternative solver options:\n",
            "    https://scikit-learn.org/stable/modules/linear_model.html#logistic-regression\n",
            "\n"
          ]
        },
        {
          "output_type": "stream",
          "name": "stdout",
          "text": [
            "0.3845\n",
            "SMPC:\n"
          ]
        },
        {
          "output_type": "stream",
          "name": "stderr",
          "text": [
            "/usr/local/lib/python3.10/dist-packages/sklearn/linear_model/_logistic.py:458: ConvergenceWarning:\n",
            "\n",
            "lbfgs failed to converge (status=1):\n",
            "STOP: TOTAL NO. of ITERATIONS REACHED LIMIT.\n",
            "\n",
            "Increase the number of iterations (max_iter) or scale the data as shown in:\n",
            "    https://scikit-learn.org/stable/modules/preprocessing.html\n",
            "Please also refer to the documentation for alternative solver options:\n",
            "    https://scikit-learn.org/stable/modules/linear_model.html#logistic-regression\n",
            "\n"
          ]
        },
        {
          "output_type": "stream",
          "name": "stdout",
          "text": [
            "0.3845\n",
            "SMPC:\n"
          ]
        },
        {
          "output_type": "stream",
          "name": "stderr",
          "text": [
            "/usr/local/lib/python3.10/dist-packages/sklearn/linear_model/_logistic.py:458: ConvergenceWarning:\n",
            "\n",
            "lbfgs failed to converge (status=1):\n",
            "STOP: TOTAL NO. of ITERATIONS REACHED LIMIT.\n",
            "\n",
            "Increase the number of iterations (max_iter) or scale the data as shown in:\n",
            "    https://scikit-learn.org/stable/modules/preprocessing.html\n",
            "Please also refer to the documentation for alternative solver options:\n",
            "    https://scikit-learn.org/stable/modules/linear_model.html#logistic-regression\n",
            "\n"
          ]
        },
        {
          "output_type": "stream",
          "name": "stdout",
          "text": [
            "0.3845\n",
            "SMPC:\n"
          ]
        },
        {
          "output_type": "stream",
          "name": "stderr",
          "text": [
            "/usr/local/lib/python3.10/dist-packages/sklearn/linear_model/_logistic.py:458: ConvergenceWarning:\n",
            "\n",
            "lbfgs failed to converge (status=1):\n",
            "STOP: TOTAL NO. of ITERATIONS REACHED LIMIT.\n",
            "\n",
            "Increase the number of iterations (max_iter) or scale the data as shown in:\n",
            "    https://scikit-learn.org/stable/modules/preprocessing.html\n",
            "Please also refer to the documentation for alternative solver options:\n",
            "    https://scikit-learn.org/stable/modules/linear_model.html#logistic-regression\n",
            "\n"
          ]
        },
        {
          "output_type": "stream",
          "name": "stdout",
          "text": [
            "0.3845\n",
            "SMPC:\n"
          ]
        },
        {
          "output_type": "stream",
          "name": "stderr",
          "text": [
            "/usr/local/lib/python3.10/dist-packages/sklearn/linear_model/_logistic.py:458: ConvergenceWarning:\n",
            "\n",
            "lbfgs failed to converge (status=1):\n",
            "STOP: TOTAL NO. of ITERATIONS REACHED LIMIT.\n",
            "\n",
            "Increase the number of iterations (max_iter) or scale the data as shown in:\n",
            "    https://scikit-learn.org/stable/modules/preprocessing.html\n",
            "Please also refer to the documentation for alternative solver options:\n",
            "    https://scikit-learn.org/stable/modules/linear_model.html#logistic-regression\n",
            "\n"
          ]
        },
        {
          "output_type": "stream",
          "name": "stdout",
          "text": [
            "0.3845\n",
            "LDPET: 0.1\n",
            "0.227\n",
            "LDPET: 0.2\n"
          ]
        },
        {
          "output_type": "stream",
          "name": "stderr",
          "text": [
            "/usr/local/lib/python3.10/dist-packages/sklearn/linear_model/_logistic.py:458: ConvergenceWarning:\n",
            "\n",
            "lbfgs failed to converge (status=1):\n",
            "STOP: TOTAL NO. of ITERATIONS REACHED LIMIT.\n",
            "\n",
            "Increase the number of iterations (max_iter) or scale the data as shown in:\n",
            "    https://scikit-learn.org/stable/modules/preprocessing.html\n",
            "Please also refer to the documentation for alternative solver options:\n",
            "    https://scikit-learn.org/stable/modules/linear_model.html#logistic-regression\n",
            "\n"
          ]
        },
        {
          "output_type": "stream",
          "name": "stdout",
          "text": [
            "0.32\n",
            "LDPET: 0.5\n"
          ]
        },
        {
          "output_type": "stream",
          "name": "stderr",
          "text": [
            "/usr/local/lib/python3.10/dist-packages/sklearn/linear_model/_logistic.py:458: ConvergenceWarning:\n",
            "\n",
            "lbfgs failed to converge (status=1):\n",
            "STOP: TOTAL NO. of ITERATIONS REACHED LIMIT.\n",
            "\n",
            "Increase the number of iterations (max_iter) or scale the data as shown in:\n",
            "    https://scikit-learn.org/stable/modules/preprocessing.html\n",
            "Please also refer to the documentation for alternative solver options:\n",
            "    https://scikit-learn.org/stable/modules/linear_model.html#logistic-regression\n",
            "\n"
          ]
        },
        {
          "output_type": "stream",
          "name": "stdout",
          "text": [
            "0.471\n",
            "LDPET: 1.0\n"
          ]
        },
        {
          "output_type": "stream",
          "name": "stderr",
          "text": [
            "/usr/local/lib/python3.10/dist-packages/sklearn/linear_model/_logistic.py:458: ConvergenceWarning:\n",
            "\n",
            "lbfgs failed to converge (status=1):\n",
            "STOP: TOTAL NO. of ITERATIONS REACHED LIMIT.\n",
            "\n",
            "Increase the number of iterations (max_iter) or scale the data as shown in:\n",
            "    https://scikit-learn.org/stable/modules/preprocessing.html\n",
            "Please also refer to the documentation for alternative solver options:\n",
            "    https://scikit-learn.org/stable/modules/linear_model.html#logistic-regression\n",
            "\n"
          ]
        },
        {
          "output_type": "stream",
          "name": "stdout",
          "text": [
            "0.528\n",
            "LDPET: 1.5\n"
          ]
        },
        {
          "output_type": "stream",
          "name": "stderr",
          "text": [
            "/usr/local/lib/python3.10/dist-packages/sklearn/linear_model/_logistic.py:458: ConvergenceWarning:\n",
            "\n",
            "lbfgs failed to converge (status=1):\n",
            "STOP: TOTAL NO. of ITERATIONS REACHED LIMIT.\n",
            "\n",
            "Increase the number of iterations (max_iter) or scale the data as shown in:\n",
            "    https://scikit-learn.org/stable/modules/preprocessing.html\n",
            "Please also refer to the documentation for alternative solver options:\n",
            "    https://scikit-learn.org/stable/modules/linear_model.html#logistic-regression\n",
            "\n"
          ]
        },
        {
          "output_type": "stream",
          "name": "stdout",
          "text": [
            "0.546\n",
            "LDPET: 2.0\n"
          ]
        },
        {
          "output_type": "stream",
          "name": "stderr",
          "text": [
            "/usr/local/lib/python3.10/dist-packages/sklearn/linear_model/_logistic.py:458: ConvergenceWarning:\n",
            "\n",
            "lbfgs failed to converge (status=1):\n",
            "STOP: TOTAL NO. of ITERATIONS REACHED LIMIT.\n",
            "\n",
            "Increase the number of iterations (max_iter) or scale the data as shown in:\n",
            "    https://scikit-learn.org/stable/modules/preprocessing.html\n",
            "Please also refer to the documentation for alternative solver options:\n",
            "    https://scikit-learn.org/stable/modules/linear_model.html#logistic-regression\n",
            "\n"
          ]
        },
        {
          "output_type": "stream",
          "name": "stdout",
          "text": [
            "0.5615\n",
            "LDPET: 2.5\n"
          ]
        },
        {
          "output_type": "stream",
          "name": "stderr",
          "text": [
            "/usr/local/lib/python3.10/dist-packages/sklearn/linear_model/_logistic.py:458: ConvergenceWarning:\n",
            "\n",
            "lbfgs failed to converge (status=1):\n",
            "STOP: TOTAL NO. of ITERATIONS REACHED LIMIT.\n",
            "\n",
            "Increase the number of iterations (max_iter) or scale the data as shown in:\n",
            "    https://scikit-learn.org/stable/modules/preprocessing.html\n",
            "Please also refer to the documentation for alternative solver options:\n",
            "    https://scikit-learn.org/stable/modules/linear_model.html#logistic-regression\n",
            "\n"
          ]
        },
        {
          "output_type": "stream",
          "name": "stdout",
          "text": [
            "0.5675\n",
            "LDPET: 3.0\n"
          ]
        },
        {
          "output_type": "stream",
          "name": "stderr",
          "text": [
            "/usr/local/lib/python3.10/dist-packages/sklearn/linear_model/_logistic.py:458: ConvergenceWarning:\n",
            "\n",
            "lbfgs failed to converge (status=1):\n",
            "STOP: TOTAL NO. of ITERATIONS REACHED LIMIT.\n",
            "\n",
            "Increase the number of iterations (max_iter) or scale the data as shown in:\n",
            "    https://scikit-learn.org/stable/modules/preprocessing.html\n",
            "Please also refer to the documentation for alternative solver options:\n",
            "    https://scikit-learn.org/stable/modules/linear_model.html#logistic-regression\n",
            "\n"
          ]
        },
        {
          "output_type": "stream",
          "name": "stdout",
          "text": [
            "0.578\n"
          ]
        }
      ]
    },
    {
      "cell_type": "code",
      "source": [
        "import matplotlib.pyplot as plt"
      ],
      "metadata": {
        "id": "GtlRkdI7tpEC"
      },
      "execution_count": null,
      "outputs": []
    },
    {
      "cell_type": "code",
      "source": [
        "# get the results and plot it\n",
        "result_cdp = [12.6,8.55,9.4,11.55,10.5,8.3,9.35,8.7]\n",
        "result_ldp = [19.6,29.2,44.3,52.55,55.85,56.55,58.5,60.1]\n",
        "result_gaussian = [12.6,8.5,9.2,8.7,12.6,8.7,10.7,8.9]\n",
        "result_smpc = [38.45,38.45,38.45,38.45,38.45,38.45,38.45,38.45]\n",
        "result_ldpet = [22.7,32.0,47.1,52.8,54.6,56.15,56.75,57.8]\n",
        "def plot_results_different_methods(epsilon):\n",
        "  plt.plot(epsilon,result_cdp,label='CDP')\n",
        "  plt.plot(epsilon,result_ldp,label='LDP')\n",
        "  plt.plot(epsilon,result_gaussian,label='Gaussian')\n",
        "  plt.plot(epsilon,result_smpc,label='SMPC')\n",
        "  plt.plot(epsilon,result_ldpet,label='LDPET')\n",
        "  plt.xlabel('Different Epsilons')\n",
        "  plt.ylabel('Accuracy (%)')\n",
        "  plt.legend()\n",
        "  plt.show()"
      ],
      "metadata": {
        "id": "s2SpmEGqdodl"
      },
      "execution_count": null,
      "outputs": []
    },
    {
      "cell_type": "code",
      "source": [
        "epsilons = [0.1,0.2,0.5,1.0,1.5,2.0,2.5,3.0]\n",
        "plot_results_different_methods(epsilons)"
      ],
      "metadata": {
        "colab": {
          "base_uri": "https://localhost:8080/",
          "height": 449
        },
        "id": "rUJpEzilnlJ6",
        "outputId": "d2b891b7-d33d-4a75-b23d-c63dbc699c4f"
      },
      "execution_count": null,
      "outputs": [
        {
          "output_type": "display_data",
          "data": {
            "text/plain": [
              "<Figure size 640x480 with 1 Axes>"
            ],
            "image/png": "[encoded data removed]"
          },
          "metadata": {}
        }
      ]
    },
    {
      "cell_type": "code",
      "source": [
        "!pip install xgboost"
      ],
      "metadata": {
        "id": "SJl7o4uUFznf"
      },
      "execution_count": null,
      "outputs": []
    },
    {
      "cell_type": "code",
      "source": [
        "from xgboost import XGBClassifier"
      ],
      "metadata": {
        "id": "Ysnw8nLDF5NP"
      },
      "execution_count": null,
      "outputs": []
    },
    {
      "cell_type": "code",
      "source": [
        "# according to all the results and plot the\n",
        "import matplotlib.pyplot as plt\n",
        "membership_attack_results = [23.45, 32.15, 44.4, 51.55, 54.25, 55.95, 57.3, 58.7, 58.85, 61.1]\n",
        "privacy_results = [76.55,67.85,55.6,48.45,45.75,44.04,42.7,41.3,41,38.9]\n",
        "epsilons = [0.1,0.2,0.5,1.0,1.2,1.5,2.0,2.2,2.5,3.0]\n",
        "plt.plot(epsilons,privacy_results,label='Privacy')\n",
        "plt.plot(epsilons,membership_attack_results,label='Membership Attack')\n",
        "plt.xlabel('Different Epsilons')\n",
        "plt.ylabel('Accuracy (%)')\n",
        "plt.legend()"
      ],
      "metadata": {
        "colab": {
          "base_uri": "https://localhost:8080/",
          "height": 466
        },
        "id": "bGIFpz-kXyIU",
        "outputId": "d3e91ae8-9443-40f9-f41c-0b895dd660f4"
      },
      "execution_count": null,
      "outputs": [
        {
          "output_type": "execute_result",
          "data": {
            "text/plain": [
              "<matplotlib.legend.Legend at 0x7f829c455ea0>"
            ]
          },
          "metadata": {},
          "execution_count": 3
        },
        {
          "output_type": "display_data",
          "data": {
            "text/plain": [
              "<Figure size 640x480 with 1 Axes>"
            ],
            "image/png": "[encoded data removed]"
          },
          "metadata": {}
        }
      ]
    }
  ]
}